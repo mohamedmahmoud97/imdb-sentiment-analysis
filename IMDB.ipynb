{
 "cells": [
  {
   "cell_type": "markdown",
   "metadata": {},
   "source": [
    "# HOLA AMIGOS"
   ]
  },
  {
   "cell_type": "code",
   "execution_count": 1,
   "metadata": {},
   "outputs": [
    {
     "name": "stdout",
     "output_type": "stream",
     "text": [
      "Once deleted, variables cannot be recovered. Proceed (y/[n])? y\n"
     ]
    }
   ],
   "source": [
    "% reset\n",
    "from sklearn.model_selection import train_test_split\n",
    "import numpy as np\n",
    "from helpers import *\n",
    "from cleaners import *\n",
    "import os\n",
    "import nltk\n",
    "import re\n",
    "from nltk.corpus import stopwords\n",
    "from nltk.stem import WordNetLemmatizer\n",
    "from nltk.corpus import wordnet\n",
    "import pathlib\n",
    "from multiprocessing import Process,Lock,Value\n",
    "%load_ext autoreload\n",
    "%autoreload 2\n"
   ]
  },
  {
   "cell_type": "code",
   "execution_count": 2,
   "metadata": {
    "scrolled": true
   },
   "outputs": [
    {
     "name": "stdout",
     "output_type": "stream",
     "text": [
      "cleaningaclImdb/train/unsup\n"
     ]
    }
   ],
   "source": [
    "dirs = ['aclImdb/train/pos','aclImdb/train/neg','aclImdb/train/unsup']\n",
    "clean_root = speedy(pos_cleaner, dirs,15,target_suffix='pos')"
   ]
  },
  {
   "cell_type": "code",
   "execution_count": 3,
   "metadata": {
    "collapsed": true
   },
   "outputs": [],
   "source": [
    "from pathlib import Path\n",
    "class MyDocs(object):\n",
    "    def __init__(self, dirname):\n",
    "        self.dirname = dirname\n",
    " \n",
    "    def __iter__(self):\n",
    "        pathlist = Path(self.dirname).glob('**/*')\n",
    "        for path in pathlist:\n",
    "            path_in_str = str(path)\n",
    "            if os.path.isfile(path_in_str):\n",
    "                f=open(path_in_str)\n",
    "                yield f.read().split()"
   ]
  },
  {
   "cell_type": "code",
   "execution_count": 4,
   "metadata": {},
   "outputs": [
    {
     "name": "stderr",
     "output_type": "stream",
     "text": [
      "/home/alyswidan/anaconda3/lib/python3.6/site-packages/gensim/models/phrases.py:494: UserWarning: For a faster implementation, use the gensim.models.phrases.Phraser class\n",
      "  warnings.warn(\"For a faster implementation, use the gensim.models.phrases.Phraser class\")\n"
     ]
    }
   ],
   "source": [
    "from gensim.models import Word2Vec,TfidfModel,Phrases\n",
    "from gensim.corpora import Dictionary\n",
    "import gensim\n",
    "\n",
    "docs = MyDocs(clean_root)\n",
    "bigram_transformer = Phrases(docs)\n",
    "wv_model = Word2Vec(bigram_transformer[docs], size=300, window=5, min_count=100, workers=6)"
   ]
  },
  {
   "cell_type": "code",
   "execution_count": 5,
   "metadata": {
    "collapsed": true
   },
   "outputs": [],
   "source": [
    "def tf_idf_model(doc_path,model_name=None):\n",
    "    model_path = f'models/tf_{model_name}'\n",
    "    dict_path = f'models/dict_{model_name}'\n",
    "    model_exists = os.path.isfile(model_path)\n",
    "    dict_exists = os.path.isfile(dict_path)\n",
    "    dir_exists = os.path.isdir('models')\n",
    "    save = model_name!=None\n",
    "    \n",
    "    docs = MyDocs(doc_path)\n",
    "    bow_dict = Dictionary.load(dict_path) if dict_exists else Dictionary(docs)\n",
    "    corpus = [bow_dict.doc2bow(doc) for doc in docs]\n",
    "    tf_model = TfidfModel.load(model_path) if model_exists else TfidfModel(corpus)\n",
    "    if save:\n",
    "        if not dir_exists:\n",
    "            pathlib.Path.mkdir('models')\n",
    "        if not model_exists:\n",
    "            tf_model.save(model_path)\n",
    "        if not dict_exists:\n",
    "            bow_dict.save(dict_path)\n",
    "    return corpus,bow_dict,tf_model\n",
    "        \n",
    "\n",
    "pos_corpus, pos_dict, pos_tf_model = tf_idf_model(f'{clean_root}/train/pos','pos')\n",
    "neg_corpus, neg_dict, neg_tf_model = tf_idf_model(f'{clean_root}/train/neg','neg')"
   ]
  },
  {
   "cell_type": "code",
   "execution_count": 6,
   "metadata": {
    "collapsed": true
   },
   "outputs": [],
   "source": [
    "def doc2vec_factory(bow_dict,tf_model,word2vec):\n",
    "    def doc2vec(doc_bow):\n",
    "        doc = np.array([bow_dict[word_id] for word_id,freq in doc_bow])\n",
    "        doc_tf_idf = np.array([pair[1] for pair in tf_model[doc_bow] if bow_dict[pair[0]] in word2vec.wv.vocab])\n",
    "        vecs = np.array([word2vec.wv[word] for word in doc if word in word2vec.wv.vocab])\n",
    "        doc_vec = np.sum(doc_tf_idf.reshape(-1,1)*vecs,axis=0)\n",
    "        return doc_vec.reshape(-1,1)\n",
    "    return doc2vec\n"
   ]
  },
  {
   "cell_type": "code",
   "execution_count": 7,
   "metadata": {
    "collapsed": true
   },
   "outputs": [],
   "source": [
    "pos_doc2vec = doc2vec_factory(pos_dict,pos_tf_model,wv_model)\n",
    "neg_doc2vec = doc2vec_factory(neg_dict,neg_tf_model,wv_model)\n",
    "\n",
    "pos_vecs = []\n",
    "for corpus in pos_corpus:\n",
    "    pos_vecs.append(pos_doc2vec(corpus))\n",
    "pos_vecs = np.array(pos_vecs)\n"
   ]
  },
  {
   "cell_type": "code",
   "execution_count": 8,
   "metadata": {
    "collapsed": true
   },
   "outputs": [],
   "source": [
    "neg_vecs = []\n",
    "for corpus in neg_corpus:\n",
    "    neg_vecs.append(neg_doc2vec(corpus))\n",
    "neg_vecs = np.array(neg_vecs)"
   ]
  },
  {
   "cell_type": "code",
   "execution_count": 9,
   "metadata": {
    "collapsed": true
   },
   "outputs": [],
   "source": [
    "neg_vecs = neg_vecs.reshape(-1,300)\n",
    "pos_vecs = pos_vecs.reshape(-1,300)"
   ]
  },
  {
   "cell_type": "code",
   "execution_count": 10,
   "metadata": {
    "collapsed": true
   },
   "outputs": [],
   "source": [
    "X = np.concatenate((pos_vecs,neg_vecs),axis=0)\n",
    "y = np.asarray([1]*pos_vecs.shape[0] + [-1]*pos_vecs.shape[0])\n",
    "\n",
    "X_train,X_val,y_train,y_val = train_test_split(X, y, test_size=0.33, random_state=42)\n"
   ]
  },
  {
   "cell_type": "code",
   "execution_count": 11,
   "metadata": {},
   "outputs": [
    {
     "data": {
      "text/plain": [
       "SVC(C=1, cache_size=200, class_weight=None, coef0=0.0,\n",
       "  decision_function_shape='ovr', degree=3, gamma='auto', kernel='rbf',\n",
       "  max_iter=-1, probability=False, random_state=None, shrinking=True,\n",
       "  tol=0.001, verbose=False)"
      ]
     },
     "execution_count": 11,
     "metadata": {},
     "output_type": "execute_result"
    }
   ],
   "source": [
    "from sklearn.svm import SVC\n",
    "\n",
    "clf = SVC(C=1)\n",
    "clf.fit(X_train, y_train)"
   ]
  },
  {
   "cell_type": "code",
   "execution_count": 12,
   "metadata": {},
   "outputs": [
    {
     "data": {
      "text/plain": [
       "0.79648484848484846"
      ]
     },
     "execution_count": 12,
     "metadata": {},
     "output_type": "execute_result"
    }
   ],
   "source": [
    "np.mean(clf.predict(X_val) == y_val)"
   ]
  },
  {
   "cell_type": "code",
   "execution_count": 13,
   "metadata": {},
   "outputs": [
    {
     "data": {
      "text/plain": [
       "RandomForestClassifier(bootstrap=True, class_weight=None, criterion='gini',\n",
       "            max_depth=None, max_features='auto', max_leaf_nodes=None,\n",
       "            min_impurity_decrease=0.0, min_impurity_split=None,\n",
       "            min_samples_leaf=1, min_samples_split=50,\n",
       "            min_weight_fraction_leaf=0.0, n_estimators=500, n_jobs=-1,\n",
       "            oob_score=False, random_state=None, verbose=0,\n",
       "            warm_start=False)"
      ]
     },
     "execution_count": 13,
     "metadata": {},
     "output_type": "execute_result"
    }
   ],
   "source": [
    "from sklearn.ensemble import RandomForestClassifier\n",
    "forest = RandomForestClassifier(n_estimators=500,min_samples_split=50,n_jobs=-1)\n",
    "forest.fit(X_train,y_train)\n"
   ]
  },
  {
   "cell_type": "code",
   "execution_count": 14,
   "metadata": {},
   "outputs": [
    {
     "data": {
      "text/plain": [
       "0.76690909090909087"
      ]
     },
     "execution_count": 14,
     "metadata": {},
     "output_type": "execute_result"
    }
   ],
   "source": [
    "np.mean(forest.predict(X_val) == y_val)"
   ]
  },
  {
   "cell_type": "code",
   "execution_count": 15,
   "metadata": {},
   "outputs": [
    {
     "data": {
      "text/plain": [
       "AdaBoostClassifier(algorithm='SAMME.R', base_estimator=None,\n",
       "          learning_rate=1.0, n_estimators=200, random_state=None)"
      ]
     },
     "execution_count": 15,
     "metadata": {},
     "output_type": "execute_result"
    }
   ],
   "source": [
    "from sklearn.ensemble import AdaBoostClassifier\n",
    "ada = AdaBoostClassifier(n_estimators=200)\n",
    "ada.fit(X_train,y_train)"
   ]
  },
  {
   "cell_type": "code",
   "execution_count": null,
   "metadata": {},
   "outputs": [
    {
     "data": {
      "text/plain": [
       "0.76412121212121209"
      ]
     },
     "execution_count": 16,
     "metadata": {},
     "output_type": "execute_result"
    }
   ],
   "source": [
    "np.mean(ada.predict(X_val) == y_val)"
   ]
  },
  {
   "cell_type": "code",
   "execution_count": null,
   "metadata": {
    "collapsed": true
   },
   "outputs": [],
   "source": [
    "from sklearn.ensemble import GradientBoostingClassifier\n",
    "gboost = GradientBoostingClassifier(n_estimators=300)\n",
    "gboost.fit(X_train,y_train)"
   ]
  },
  {
   "cell_type": "code",
   "execution_count": null,
   "metadata": {
    "collapsed": true
   },
   "outputs": [],
   "source": [
    "np.mean(gboost.predict(X_val) == y_val)"
   ]
  },
  {
   "cell_type": "code",
   "execution_count": null,
   "metadata": {
    "collapsed": true
   },
   "outputs": [],
   "source": [
    "a = {'a':[1,2,3,4],'b':[10,20,30],'c':['a','b']}\n",
    "for "
   ]
  }
 ],
 "metadata": {
  "kernelspec": {
   "display_name": "Python 3",
   "language": "python",
   "name": "python3"
  },
  "language_info": {
   "codemirror_mode": {
    "name": "ipython",
    "version": 3
   },
   "file_extension": ".py",
   "mimetype": "text/x-python",
   "name": "python",
   "nbconvert_exporter": "python",
   "pygments_lexer": "ipython3",
   "version": "3.6.3"
  }
 },
 "nbformat": 4,
 "nbformat_minor": 2
}
