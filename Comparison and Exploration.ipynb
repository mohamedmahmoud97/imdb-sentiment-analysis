{
 "cells": [
  {
   "cell_type": "markdown",
   "metadata": {},
   "source": [
    "## Imports"
   ]
  },
  {
   "cell_type": "code",
   "execution_count": 131,
   "metadata": {},
   "outputs": [
    {
     "name": "stdout",
     "output_type": "stream",
     "text": [
      "Once deleted, variables cannot be recovered. Proceed (y/[n])? n\n",
      "Nothing done.\n",
      "The autoreload extension is already loaded. To reload it, use:\n",
      "  %reload_ext autoreload\n"
     ]
    }
   ],
   "source": [
    "% reset\n",
    "import matplotlib.pyplot as plt\n",
    "import seaborn\n",
    "import numpy as np\n",
    "import os\n",
    "import nltk\n",
    "import re\n",
    "import gensim\n",
    "from sklearn.model_selection import train_test_split\n",
    "from helpers import *\n",
    "from cleaners import *\n",
    "from nltk.corpus import stopwords\n",
    "from nltk.stem import WordNetLemmatizer\n",
    "from nltk.corpus import wordnet\n",
    "import pathlib\n",
    "from multiprocessing import Process\n",
    "from pathlib import Path\n",
    "from gensim.models import Word2Vec,TfidfModel,Phrases\n",
    "from gensim.corpora import Dictionary\n",
    "from sklearn.ensemble import RandomForestClassifier\n",
    "from sklearn.ensemble import AdaBoostClassifier\n",
    "from sklearn.naive_bayes import GaussianNB\n",
    "from sklearn.naive_bayes import MultinomialNB\n",
    "from sklearn.linear_model import RidgeClassifier, Lasso\n",
    "from sklearn.ensemble import BaggingClassifier\n",
    "from sklearn.svm import SVC\n",
    "from sklearn.model_selection import cross_val_score\n",
    "from sklearn.linear_model import LogisticRegression\n",
    "import inspect\n",
    "import itertools\n",
    "from threading import Thread,Lock\n",
    "\n",
    "\n",
    "\n",
    "%load_ext autoreload\n",
    "%autoreload 2"
   ]
  },
  {
   "cell_type": "markdown",
   "metadata": {},
   "source": [
    "## Some helpers used to convert docs to vecs using tf weighted word2vec averaging"
   ]
  },
  {
   "cell_type": "code",
   "execution_count": 10,
   "metadata": {
    "collapsed": true
   },
   "outputs": [],
   "source": [
    "# an iterator used by gensim to train models without loading the whole corpus in memory\n",
    "class MyDocs(object):\n",
    "    def __init__(self, dirname):\n",
    "        self.dirname = dirname\n",
    " \n",
    "    def __iter__(self):\n",
    "        pathlist = Path(self.dirname).glob('**/*')\n",
    "        for path in pathlist:\n",
    "            path_in_str = str(path)\n",
    "            if os.path.isfile(path_in_str):\n",
    "                f=open(path_in_str)\n",
    "                yield f.read().split()"
   ]
  },
  {
   "cell_type": "code",
   "execution_count": 11,
   "metadata": {
    "collapsed": true
   },
   "outputs": [],
   "source": [
    "def word2vec(docs_root,model_name=None):\n",
    "    # Training a word2vec model, the bigram transformer tells gensim to create vectors for bigram phrases such New York\n",
    "    save = model_name!=None\n",
    "    model_path = f'models/wv_{model_name}'\n",
    "    model_exists = os.path.isfile(model_path)\n",
    "    dir_exists = os.path.isdir('models')\n",
    "\n",
    "    wv_model = None\n",
    "    \n",
    "    if model_exists:\n",
    "        wv_model = Word2Vec.load(model_path)\n",
    "    else:\n",
    "        docs = MyDocs(docs_root)\n",
    "        wv_model = Word2Vec(docs, size=300, window=5, min_count=100, workers=6)\n",
    "    \n",
    "    if save:\n",
    "        if not dir_exists:\n",
    "            pathlib.Path.mkdir('models')\n",
    "        if not model_exists:\n",
    "            wv_model.save(model_path)\n",
    "\n",
    "    return wv_model\n",
    "    "
   ]
  },
  {
   "cell_type": "code",
   "execution_count": 12,
   "metadata": {
    "collapsed": true
   },
   "outputs": [],
   "source": [
    "def tf_idf_model(doc_path,model_name=None):\n",
    "    model_path = f'models/tf_{model_name}'\n",
    "    dict_path = f'models/dict_{model_name}'\n",
    "    model_exists = os.path.isfile(model_path)\n",
    "    dict_exists = os.path.isfile(dict_path)\n",
    "    dir_exists = os.path.isdir('models')\n",
    "    save = model_name!=None\n",
    "    \n",
    "    docs = MyDocs(doc_path)\n",
    "    bow_dict = Dictionary.load(dict_path) if dict_exists else Dictionary(docs)\n",
    "    corpus = [bow_dict.doc2bow(doc) for doc in docs]\n",
    "    tf_model = TfidfModel.load(model_path) if model_exists else TfidfModel(corpus)\n",
    "    if save:\n",
    "        if not dir_exists:\n",
    "            pathlib.Path.mkdir('models')\n",
    "        if not model_exists:\n",
    "            tf_model.save(model_path)\n",
    "        if not dict_exists:\n",
    "            bow_dict.save(dict_path)\n",
    "    return corpus,bow_dict,tf_model\n",
    "        "
   ]
  },
  {
   "cell_type": "code",
   "execution_count": 13,
   "metadata": {
    "collapsed": true
   },
   "outputs": [],
   "source": [
    "def tf_doc2vec_factory(bow_dict,tf_model,word2vec):\n",
    "    def tf_doc2vec(doc_bow,raw_doc):\n",
    "        tf_dict = {e0:e1 for e0,e1 in tf_model[doc_bow]}\n",
    "        doc_tf_idf = np.array([tf_dict[tok_id] for tok_id in (bow_dict.token2id[tok] for tok in raw_doc if tok in word2vec.wv.vocab)])\n",
    "        vecs = np.array([word2vec.wv[word] for idx,word in enumerate(raw_doc) if word in word2vec.wv.vocab])\n",
    "        doc_vec = np.sum(doc_tf_idf.reshape(-1,1)*vecs,axis=0)\n",
    "        return doc_vec\n",
    "    return tf_doc2vec\n"
   ]
  },
  {
   "cell_type": "code",
   "execution_count": 14,
   "metadata": {
    "collapsed": true
   },
   "outputs": [],
   "source": [
    "def tf_wv_samples(model_prefix,root_dir,wv=None):\n",
    "    # root dir is assumed to have children /pos and /neg\n",
    "    # word 2 vec model is created using all descendents of the parent of root_dir\n",
    "    # returns X,y \n",
    "    \n",
    "    pos_dir = f'{root_dir}/pos'\n",
    "    neg_dir = f'{root_dir}/neg'\n",
    "    \n",
    "    # get the word2vec model\n",
    "    if wv is None:\n",
    "        wv = word2vec(root_dir.split('/')[0],model_prefix)\n",
    "        \n",
    "    # get tf-idf models\n",
    "    pos_corpus, pos_dict, pos_tf_model = tf_idf_model(pos_dir, f'{model_prefix}_pos')\n",
    "    neg_corpus, neg_dict, neg_tf_model = tf_idf_model(neg_dir, f'{model_prefix}_neg')\n",
    "    # get tf-doc2vec factories\n",
    "    pos_tf_doc2vec = tf_doc2vec_factory(pos_dict, pos_tf_model, wv)\n",
    "    neg_tf_doc2vec = tf_doc2vec_factory(neg_dict, neg_tf_model, wv)\n",
    "    \n",
    "    pos_vecs = []\n",
    "    for bows,doc in zip(pos_corpus,MyDocs(pos_dir)):\n",
    "        pos_vecs.append(pos_tf_doc2vec(bows,doc))\n",
    "    pos_vecs = np.array(pos_vecs)\n",
    "    \n",
    "    neg_vecs = []\n",
    "    for bows,doc in zip(neg_corpus,MyDocs(neg_dir)):\n",
    "        neg_vecs.append(neg_tf_doc2vec(bows,doc))\n",
    "    neg_vecs = np.array(neg_vecs)\n",
    "    \n",
    "    X = np.concatenate((pos_vecs,neg_vecs),axis=0)\n",
    "    y = np.asarray([1]*pos_vecs.shape[0] + [-1]*pos_vecs.shape[0])\n",
    "    \n",
    "    return X, y, wv\n"
   ]
  },
  {
   "cell_type": "code",
   "execution_count": 15,
   "metadata": {
    "collapsed": true
   },
   "outputs": [],
   "source": [
    "def validate_svm(X, y, C):\n",
    "    '''\n",
    "       C: weight to the slack of the svm\n",
    "       returns:\n",
    "           best_svm: svm with the best accuracy\n",
    "           clf_accs: accurcies of classifiers\n",
    "           clf_vars: variance of k folds per classifier setting\n",
    "    '''\n",
    "    best_svm = None\n",
    "    best_acc = 0\n",
    "    clf_vars = []\n",
    "    clf_accs = []\n",
    "    for c in C:\n",
    "        svm_clf = SVC(C=c) \n",
    "        accs = cross_val_score(svm_clf, X, y, n_jobs=-1)\n",
    "        mean_acc, var_acc = np.mean(accs), np.var(accs)\n",
    "        clf_accs.append(mean_acc)\n",
    "        clf_vars.append(var_acc)\n",
    "        if mean_acc > best_acc:\n",
    "            best_acc = mean_acc\n",
    "            best_svm = svm_clf\n",
    "    return best_svm, clf_accs, clf_vars\n"
   ]
  },
  {
   "cell_type": "code",
   "execution_count": 16,
   "metadata": {
    "collapsed": true
   },
   "outputs": [],
   "source": [
    "def validate_random_forest(X, y, n_estimators):\n",
    "    '''\n",
    "       n_estimators: number of classifiers to try \n",
    "       \n",
    "       returns:\n",
    "           best_forest: svm with the best accuracy\n",
    "           clf_accs: accurcies of classifiers\n",
    "           clf_vars: variance of k folds per classifier setting\n",
    "    '''\n",
    "    best_forest = None\n",
    "    best_acc = 0\n",
    "    clf_vars = []\n",
    "    clf_accs = []\n",
    "    for n in n_estimators:\n",
    "        forest_clf = RandomForestClassifier(n_estimators=n, n_jobs=-1)\n",
    "        accs = cross_val_score(forest_clf, X, y, n_jobs=-1)\n",
    "        mean_acc, var_acc = np.mean(accs), np.var(accs)\n",
    "        clf_accs.append(mean_acc)\n",
    "        clf_vars.append(var_acc)\n",
    "        if mean_acc > best_acc:\n",
    "            best_acc = mean_acc\n",
    "            best_forest = svm_clf\n",
    "    return best_forest, clf_accs, clf_vars"
   ]
  },
  {
   "cell_type": "code",
   "execution_count": 137,
   "metadata": {},
   "outputs": [],
   "source": [
    "def cross_validate(X, y, classifier, parameters={},folds=None):\n",
    "    \n",
    "    n_samples = y.shape[0]\n",
    "    perm_idx = np.random.permutation(n_samples)\n",
    "    X_perm = X[perm_idx]\n",
    "    y_perm = y[perm_idx]\n",
    "    \n",
    "    best_clf = None\n",
    "    best_acc = 0\n",
    "    clf_vars = []\n",
    "    clf_mean_accs = []\n",
    "    parameters_list = [{item[0]:item[1] for item in sublist} for \n",
    "                      sublist in itertools.product(*[[(key,val) for val in parameters[key]] \n",
    "                                                     for key in parameters.keys()])]\n",
    "    \n",
    "    \n",
    "    for parameter_comb in parameters_list:\n",
    "        clf = classifier(**parameter_comb)\n",
    "        accs = cross_val_score(clf, X_perm, y_perm, n_jobs=-1,cv=folds)\n",
    "        mean_acc, var_acc = np.mean(accs), np.var(accs)\n",
    "        clf_mean_accs.append(mean_acc)\n",
    "        clf_vars.append(var_acc)\n",
    "        if mean_acc > best_acc:\n",
    "            best_acc = mean_acc\n",
    "            best_clf = clf\n",
    "        print(f'trained {clf}')\n",
    "    \n",
    "    return best_clf, clf_mean_accs, clf_vars"
   ]
  },
  {
   "cell_type": "markdown",
   "metadata": {},
   "source": [
    "## cleaning the data without POS tagging"
   ]
  },
  {
   "cell_type": "markdown",
   "metadata": {},
   "source": [
    "###  cleaning train and test data"
   ]
  },
  {
   "cell_type": "code",
   "execution_count": 18,
   "metadata": {
    "collapsed": true
   },
   "outputs": [],
   "source": [
    "basic_cleaned_root = speedy(basic_cleaner, ['aclImdb/train/pos','aclImdb/train/neg'],10,target_suffix='clean')"
   ]
  },
  {
   "cell_type": "markdown",
   "metadata": {},
   "source": [
    "### creating training and validation set"
   ]
  },
  {
   "cell_type": "code",
   "execution_count": 19,
   "metadata": {},
   "outputs": [],
   "source": [
    "X,y,wv_basic = tf_wv_samples(model_prefix='basic', root_dir=f'{basic_cleaned_root}/train')\n",
    "# X_train,X_val,y_train,y_val = train_test_split(X, y, test_size=0.33, random_state=42)"
   ]
  },
  {
   "cell_type": "markdown",
   "metadata": {},
   "source": [
    "### validation of the classifiers"
   ]
  },
  {
   "cell_type": "markdown",
   "metadata": {},
   "source": [
    "#### Hyper parameter tuning of logistic regression"
   ]
  },
  {
   "cell_type": "code",
   "execution_count": 125,
   "metadata": {},
   "outputs": [
    {
     "name": "stdout",
     "output_type": "stream",
     "text": [
      "trained LogisticRegression(C=0.1, class_weight=None, dual=False, fit_intercept=True,\n",
      "          intercept_scaling=1, max_iter=100, multi_class='ovr', n_jobs=1,\n",
      "          penalty='l2', random_state=None, solver='lbfgs', tol=0.0001,\n",
      "          verbose=0, warm_start=False)\n",
      "trained LogisticRegression(C=5, class_weight=None, dual=False, fit_intercept=True,\n",
      "          intercept_scaling=1, max_iter=100, multi_class='ovr', n_jobs=1,\n",
      "          penalty='l2', random_state=None, solver='lbfgs', tol=0.0001,\n",
      "          verbose=0, warm_start=False)\n",
      "trained LogisticRegression(C=10, class_weight=None, dual=False, fit_intercept=True,\n",
      "          intercept_scaling=1, max_iter=100, multi_class='ovr', n_jobs=1,\n",
      "          penalty='l2', random_state=None, solver='lbfgs', tol=0.0001,\n",
      "          verbose=0, warm_start=False)\n",
      "trained LogisticRegression(C=15, class_weight=None, dual=False, fit_intercept=True,\n",
      "          intercept_scaling=1, max_iter=100, multi_class='ovr', n_jobs=1,\n",
      "          penalty='l2', random_state=None, solver='lbfgs', tol=0.0001,\n",
      "          verbose=0, warm_start=False)\n",
      "trained LogisticRegression(C=20, class_weight=None, dual=False, fit_intercept=True,\n",
      "          intercept_scaling=1, max_iter=100, multi_class='ovr', n_jobs=1,\n",
      "          penalty='l2', random_state=None, solver='lbfgs', tol=0.0001,\n",
      "          verbose=0, warm_start=False)\n"
     ]
    }
   ],
   "source": [
    "C = [0.1,5,10,15,20]\n",
    "best_lr, lr_accs, lr_vars = cross_validate(X,y,classifier=LogisticRegression,parameters={'C':C,'solver':['lbfgs']},folds=10)"
   ]
  },
  {
   "cell_type": "code",
   "execution_count": 127,
   "metadata": {},
   "outputs": [
    {
     "data": {
      "image/png": "[encoded data removed]",
      "text/plain": [
       "<matplotlib.figure.Figure at 0x7fd4b553c2e8>"
      ]
     },
     "metadata": {},
     "output_type": "display_data"
    }
   ],
   "source": [
    "plt.errorbar(C, lr_accs, lr_vars, linestyle='None', marker='^')\n",
    "plt.xlabel('C')\n",
    "plt.ylabel('mean accuracy')\n",
    "plt.show()"
   ]
  },
  {
   "cell_type": "markdown",
   "metadata": {},
   "source": [
    "#### Hyper parameter tuning of RadnomForest"
   ]
  },
  {
   "cell_type": "code",
   "execution_count": 128,
   "metadata": {},
   "outputs": [
    {
     "name": "stdout",
     "output_type": "stream",
     "text": [
      "trained RandomForestClassifier(bootstrap=True, class_weight=None, criterion='gini',\n",
      "            max_depth=5, max_features='auto', max_leaf_nodes=None,\n",
      "            min_impurity_decrease=0.0, min_impurity_split=None,\n",
      "            min_samples_leaf=1, min_samples_split=2,\n",
      "            min_weight_fraction_leaf=0.0, n_estimators=50, n_jobs=-1,\n",
      "            oob_score=False, random_state=None, verbose=0,\n",
      "            warm_start=False)\n",
      "trained RandomForestClassifier(bootstrap=True, class_weight=None, criterion='gini',\n",
      "            max_depth=5, max_features='auto', max_leaf_nodes=None,\n",
      "            min_impurity_decrease=0.0, min_impurity_split=None,\n",
      "            min_samples_leaf=1, min_samples_split=2,\n",
      "            min_weight_fraction_leaf=0.0, n_estimators=100, n_jobs=-1,\n",
      "            oob_score=False, random_state=None, verbose=0,\n",
      "            warm_start=False)\n",
      "trained RandomForestClassifier(bootstrap=True, class_weight=None, criterion='gini',\n",
      "            max_depth=5, max_features='auto', max_leaf_nodes=None,\n",
      "            min_impurity_decrease=0.0, min_impurity_split=None,\n",
      "            min_samples_leaf=1, min_samples_split=2,\n",
      "            min_weight_fraction_leaf=0.0, n_estimators=200, n_jobs=-1,\n",
      "            oob_score=False, random_state=None, verbose=0,\n",
      "            warm_start=False)\n",
      "trained RandomForestClassifier(bootstrap=True, class_weight=None, criterion='gini',\n",
      "            max_depth=5, max_features='auto', max_leaf_nodes=None,\n",
      "            min_impurity_decrease=0.0, min_impurity_split=None,\n",
      "            min_samples_leaf=1, min_samples_split=2,\n",
      "            min_weight_fraction_leaf=0.0, n_estimators=300, n_jobs=-1,\n",
      "            oob_score=False, random_state=None, verbose=0,\n",
      "            warm_start=False)\n"
     ]
    }
   ],
   "source": [
    "n_estimators = [50,100,200,300]\n",
    "best_rf, rf_accs, rf_vars = cross_validate(X,y,classifier=RandomForestClassifier,parameters={'n_estimators':n_estimators,'max_depth':[5], 'n_jobs':[-1]},folds=10)"
   ]
  },
  {
   "cell_type": "code",
   "execution_count": 130,
   "metadata": {},
   "outputs": [
    {
     "data": {
      "image/png": "[encoded data removed]",
      "text/plain": [
       "<matplotlib.figure.Figure at 0x7fd4b7a71da0>"
      ]
     },
     "metadata": {},
     "output_type": "display_data"
    }
   ],
   "source": [
    "plt.errorbar(n_estimators, rf_accs, rf_vars, linestyle='None', marker='^')\n",
    "plt.xlabel('number of trees')\n",
    "plt.ylabel('mean accuracy')\n",
    "plt.show()"
   ]
  },
  {
   "cell_type": "code",
   "execution_count": 144,
   "metadata": {},
   "outputs": [
    {
     "name": "stdout",
     "output_type": "stream",
     "text": [
      "trained GaussianNB(priors=None)\n"
     ]
    }
   ],
   "source": [
    "best_nb, nb_accs, nb_vars = cross_validate(X,y,classifier=GaussianNB,folds=10)"
   ]
  },
  {
   "cell_type": "code",
   "execution_count": null,
   "metadata": {
    "collapsed": true
   },
   "outputs": [],
   "source": []
  },
  {
   "cell_type": "markdown",
   "metadata": {},
   "source": [
    "### Accuracy on the test data"
   ]
  },
  {
   "cell_type": "code",
   "execution_count": 37,
   "metadata": {
    "collapsed": true
   },
   "outputs": [],
   "source": [
    "basic_cleaned_test = speedy(basic_cleaner,['aclImdb/test/pos','aclImdb/test/neg'],10,target_suffix='clean')"
   ]
  },
  {
   "cell_type": "code",
   "execution_count": 41,
   "metadata": {
    "collapsed": true
   },
   "outputs": [],
   "source": [
    "X_test,y_test,wv_basic = tf_wv_samples(model_prefix='basic_nltk_2', root_dir=f'{basic_cleaned_test}/test',wv=wv_basic)\n"
   ]
  },
  {
   "cell_type": "code",
   "execution_count": 42,
   "metadata": {},
   "outputs": [
    {
     "data": {
      "text/plain": [
       "0.73760000000000003"
      ]
     },
     "execution_count": 42,
     "metadata": {},
     "output_type": "execute_result"
    }
   ],
   "source": [
    "np.mean(clf.predict(X_test) == y_test)"
   ]
  },
  {
   "cell_type": "markdown",
   "metadata": {},
   "source": [
    "## POS tagged documents"
   ]
  },
  {
   "cell_type": "code",
   "execution_count": 27,
   "metadata": {
    "collapsed": true
   },
   "outputs": [],
   "source": [
    "pos_cleaned_root = speedy(pos_cleaner, ['aclImdb/train/pos','aclImdb/train/neg','aclImdb/train/unsup'],15,target_suffix='pos')"
   ]
  },
  {
   "cell_type": "code",
   "execution_count": 28,
   "metadata": {
    "collapsed": true
   },
   "outputs": [],
   "source": [
    "X,y,wv_pos = tf_wv_samples(model_prefix='pos', root_dir=f'{pos_cleaned_root}/train')\n",
    "X_train,X_val,y_train,y_val = train_test_split(X, y, test_size=0.33, random_state=42)"
   ]
  },
  {
   "cell_type": "code",
   "execution_count": 67,
   "metadata": {},
   "outputs": [
    {
     "data": {
      "text/plain": [
       "SVC(C=1, cache_size=200, class_weight=None, coef0=0.0,\n",
       "  decision_function_shape='ovr', degree=3, gamma='auto', kernel='rbf',\n",
       "  max_iter=-1, probability=False, random_state=None, shrinking=True,\n",
       "  tol=0.001, verbose=False)"
      ]
     },
     "execution_count": 67,
     "metadata": {},
     "output_type": "execute_result"
    }
   ],
   "source": [
    "clf = SVC(C=1)\n",
    "clf.fit(X_train, y_train)"
   ]
  },
  {
   "cell_type": "code",
   "execution_count": 68,
   "metadata": {},
   "outputs": [
    {
     "data": {
      "text/plain": [
       "0.78181818181818186"
      ]
     },
     "execution_count": 68,
     "metadata": {},
     "output_type": "execute_result"
    }
   ],
   "source": [
    "np.mean(clf.predict(X_val) == y_val)"
   ]
  },
  {
   "cell_type": "code",
   "execution_count": null,
   "metadata": {
    "collapsed": true
   },
   "outputs": [],
   "source": [
    "basic_cleaned_test = speedy(basic_cleaner,['aclImdb/test/pos','aclImdb/test/neg'],10,target_suffix='clean_nltkTok_2')"
   ]
  },
  {
   "cell_type": "markdown",
   "metadata": {},
   "source": [
    "## Google pre-trained word2vecs"
   ]
  },
  {
   "cell_type": "code",
   "execution_count": 10,
   "metadata": {},
   "outputs": [
    {
     "name": "stderr",
     "output_type": "stream",
     "text": [
      "/home/alyswidan/anaconda3/lib/python3.6/site-packages/gensim/models/phrases.py:494: UserWarning: For a faster implementation, use the gensim.models.phrases.Phraser class\n",
      "  warnings.warn(\"For a faster implementation, use the gensim.models.phrases.Phraser class\")\n"
     ]
    }
   ],
   "source": [
    "model = gensim.models.KeyedVectors.load_word2vec_format('./GoogleNews-vectors-negative300.bin', binary=True)  \n",
    "basic_cleaned_root = speedy(basic_cleaner, ['aclImdb/train/pos','aclImdb/train/neg','aclImdb/train/unsup'],15,target_suffix='clean')\n",
    "X,y = tf_wv_samples(model_prefix='google', root_dir=f'{basic_cleaned_root}/train')\n",
    "X_train,X_val,y_train,y_val = train_test_split(X, y, test_size=0.33, random_state=42)"
   ]
  },
  {
   "cell_type": "code",
   "execution_count": 11,
   "metadata": {},
   "outputs": [
    {
     "data": {
      "text/plain": [
       "0.7781818181818182"
      ]
     },
     "execution_count": 11,
     "metadata": {},
     "output_type": "execute_result"
    }
   ],
   "source": [
    "clf = SVC(C=1)\n",
    "clf.fit(X_train, y_train)\n",
    "np.mean(clf.predict(X_val) == y_val)"
   ]
  },
  {
   "cell_type": "code",
   "execution_count": 136,
   "metadata": {},
   "outputs": [],
   "source": [
    "def x(**kwargs):\n",
    "    for i in kwargs:\n",
    "        print(i)\n",
    "x(**{})"
   ]
  }
 ],
 "metadata": {
  "kernelspec": {
   "display_name": "Python 3",
   "language": "python",
   "name": "python3"
  },
  "language_info": {
   "codemirror_mode": {
    "name": "ipython",
    "version": 3
   },
   "file_extension": ".py",
   "mimetype": "text/x-python",
   "name": "python",
   "nbconvert_exporter": "python",
   "pygments_lexer": "ipython3",
   "version": "3.6.3"
  }
 },
 "nbformat": 4,
 "nbformat_minor": 2
}
