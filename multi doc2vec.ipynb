{
 "cells": [
  {
   "cell_type": "code",
   "execution_count": 1,
   "metadata": {
    "scrolled": true
   },
   "outputs": [
    {
     "name": "stdout",
     "output_type": "stream",
     "text": [
      "Once deleted, variables cannot be recovered. Proceed (y/[n])? y\n"
     ]
    }
   ],
   "source": [
    "% reset\n",
    "from sklearn.model_selection import train_test_split\n",
    "import numpy as np\n",
    "from helpers import *\n",
    "import os\n",
    "import nltk\n",
    "import re\n",
    "from nltk.corpus import stopwords\n",
    "from nltk.stem import WordNetLemmatizer\n",
    "from nltk.corpus import wordnet\n",
    "import pathlib\n",
    "from multiprocessing import Process,Lock,Value\n",
    "%load_ext autoreload\n",
    "%autoreload 2"
   ]
  },
  {
   "cell_type": "code",
   "execution_count": 2,
   "metadata": {
    "collapsed": true,
    "scrolled": true
   },
   "outputs": [],
   "source": [
    "dirs = ['Data/aclImdb/train/pos','Data/aclImdb/train/neg','Data/aclImdb/train/unsup']\n",
    "clean_root = speedy(dirs,15)"
   ]
  },
  {
   "cell_type": "code",
   "execution_count": null,
   "metadata": {
    "collapsed": true
   },
   "outputs": [],
   "source": [
    "# import os\n",
    "# for subdir, dirs, files in os.walk('Data/aclImdb'):\n",
    "#     for file in files:\n",
    "#         print (os.path.join(subdir, file))"
   ]
  },
  {
   "cell_type": "code",
   "execution_count": 48,
   "metadata": {},
   "outputs": [],
   "source": [
    "# from collections import namedtuple\n",
    "# from pathlib import Path\n",
    "# import timeit\n",
    "# start_time = timeit.default_timer()\n",
    "\n",
    "# SentimentDocument = namedtuple('SentimentDocument', 'words tags split sentiment')\n",
    "\n",
    "# alldocs = []  # Will hold all docs in original order\n",
    "# for subdir, dirs, files in os.walk('Data_clean/aclImdb'):\n",
    "#     for file in files:\n",
    "#         print()\n",
    "#         split,types, uid = path_leaf(os.path.join(subdir, file))\n",
    "#         uid, _ = uid.split(\"_\")\n",
    "#         uid = int(str(uid))\n",
    "#         f=open(os.path.join(subdir, file))\n",
    "#         if types=='pos':\n",
    "#             sentiment = 1.0\n",
    "#         if types=='neg':\n",
    "#             sentiment = 0.0\n",
    "#         if types=='unsub':\n",
    "#             sentiment = None\n",
    "#         alldocs.append(SentimentDocument(f.read(), uid, split, sentiment))        \n",
    "\n",
    "# train_docs = [doc for doc in alldocs if doc.split == 'train']\n",
    "# test_docs = [doc for doc in alldocs if doc.split == 'test']\n",
    "# doc_list = alldocs[:]  # For reshuffling per pass\n",
    "\n",
    "# print('%d docs: %d train-sentiment, %d test-sentiment' % (len(doc_list), len(train_docs), len(test_docs)))\n",
    "# print(timeit.default_timer() - start_time)"
   ]
  },
  {
   "cell_type": "code",
   "execution_count": 49,
   "metadata": {
    "collapsed": true
   },
   "outputs": [],
   "source": [
    "from pathlib import Path\n",
    "class MyDocs(object):\n",
    "    def __init__(self, dirname):\n",
    "        self.dirname = dirname\n",
    "        self.pos = []\n",
    "        self.neg = []\n",
    "        self.loopy()\n",
    "\n",
    "\n",
    "    def __iter__(self):\n",
    "        pathlist = Path(self.dirname).glob('**/*')\n",
    "        for path in pathlist:\n",
    "            path_in_str = str(path)\n",
    "            if os.path.isfile(path_in_str):\n",
    "                f = open(path_in_str)\n",
    "                split, parent, uid = path_leaf(path_in_str)\n",
    "                uid, _ = uid.split(\"_\")\n",
    "                uid = int(str(uid))\n",
    "                if parent == \"pos\":\n",
    "                    yield gensim.models.doc2vec.TaggedDocument(gensim.utils.simple_preprocess(f.read()), [str(uid)])\n",
    "                elif parent == \"neg\":\n",
    "                    yield gensim.models.doc2vec.TaggedDocument(gensim.utils.simple_preprocess(f.read()), [str(12500+uid)])\n",
    "                elif parent == \"unsup\":\n",
    "                    yield gensim.models.doc2vec.TaggedDocument(gensim.utils.simple_preprocess(f.read()), [str(25000+uid)])\n",
    "                    \n",
    "    def loopy(self):\n",
    "        pathlist = Path(self.dirname).glob('**/*')\n",
    "        for path in pathlist:\n",
    "            path_in_str = str(path)\n",
    "            if os.path.isfile(path_in_str):\n",
    "                f=open(path_in_str)\n",
    "                _, parent, uid = path_leaf(path_in_str)\n",
    "                uid, _ = uid.split(\"_\")\n",
    "                uid = int(str(uid))\n",
    "                if parent == \"pos\":\n",
    "                    self.pos.append(f.read())\n",
    "                elif parent == \"neg\":\n",
    "                    self.neg.append(f.read())"
   ]
  },
  {
   "cell_type": "code",
   "execution_count": 38,
   "metadata": {
    "scrolled": false
   },
   "outputs": [
    {
     "ename": "ValueError",
     "evalue": "too many values to unpack (expected 2)",
     "output_type": "error",
     "traceback": [
      "\u001b[0;31m---------------------------------------------------------------------------\u001b[0m",
      "\u001b[0;31mValueError\u001b[0m                                Traceback (most recent call last)",
      "\u001b[0;32m<ipython-input-38-94efb7162885>\u001b[0m in \u001b[0;36m<module>\u001b[0;34m()\u001b[0m\n\u001b[1;32m     12\u001b[0m \u001b[0;34m\u001b[0m\u001b[0m\n\u001b[1;32m     13\u001b[0m \u001b[0;34m\u001b[0m\u001b[0m\n\u001b[0;32m---> 14\u001b[0;31m \u001b[0mdocs\u001b[0m \u001b[0;34m=\u001b[0m \u001b[0mMyDocs\u001b[0m\u001b[0;34m(\u001b[0m\u001b[0mclean_root\u001b[0m\u001b[0;34m)\u001b[0m\u001b[0;34m\u001b[0m\u001b[0m\n\u001b[0m\u001b[1;32m     15\u001b[0m \u001b[0;34m\u001b[0m\u001b[0m\n\u001b[1;32m     16\u001b[0m \u001b[0;31m# doc2vec_models = [\u001b[0m\u001b[0;34m\u001b[0m\u001b[0;34m\u001b[0m\u001b[0m\n",
      "\u001b[0;32m<ipython-input-37-8eda1c98b48b>\u001b[0m in \u001b[0;36m__init__\u001b[0;34m(self, dirname)\u001b[0m\n\u001b[1;32m      5\u001b[0m         \u001b[0mself\u001b[0m\u001b[0;34m.\u001b[0m\u001b[0mpos\u001b[0m \u001b[0;34m=\u001b[0m \u001b[0;34m[\u001b[0m\u001b[0;34m]\u001b[0m\u001b[0;34m\u001b[0m\u001b[0m\n\u001b[1;32m      6\u001b[0m         \u001b[0mself\u001b[0m\u001b[0;34m.\u001b[0m\u001b[0mneg\u001b[0m \u001b[0;34m=\u001b[0m \u001b[0;34m[\u001b[0m\u001b[0;34m]\u001b[0m\u001b[0;34m\u001b[0m\u001b[0m\n\u001b[0;32m----> 7\u001b[0;31m         \u001b[0mself\u001b[0m\u001b[0;34m.\u001b[0m\u001b[0mloopy\u001b[0m\u001b[0;34m(\u001b[0m\u001b[0;34m)\u001b[0m\u001b[0;34m\u001b[0m\u001b[0m\n\u001b[0m\u001b[1;32m      8\u001b[0m \u001b[0;34m\u001b[0m\u001b[0m\n\u001b[1;32m      9\u001b[0m \u001b[0;34m\u001b[0m\u001b[0m\n",
      "\u001b[0;32m<ipython-input-37-8eda1c98b48b>\u001b[0m in \u001b[0;36mloopy\u001b[0;34m(self)\u001b[0m\n\u001b[1;32m     30\u001b[0m             \u001b[0;32mif\u001b[0m \u001b[0mos\u001b[0m\u001b[0;34m.\u001b[0m\u001b[0mpath\u001b[0m\u001b[0;34m.\u001b[0m\u001b[0misfile\u001b[0m\u001b[0;34m(\u001b[0m\u001b[0mpath_in_str\u001b[0m\u001b[0;34m)\u001b[0m\u001b[0;34m:\u001b[0m\u001b[0;34m\u001b[0m\u001b[0m\n\u001b[1;32m     31\u001b[0m                 \u001b[0mf\u001b[0m\u001b[0;34m=\u001b[0m\u001b[0mopen\u001b[0m\u001b[0;34m(\u001b[0m\u001b[0mpath_in_str\u001b[0m\u001b[0;34m)\u001b[0m\u001b[0;34m\u001b[0m\u001b[0m\n\u001b[0;32m---> 32\u001b[0;31m                 \u001b[0mparent\u001b[0m\u001b[0;34m,\u001b[0m \u001b[0muid\u001b[0m \u001b[0;34m=\u001b[0m \u001b[0mpath_leaf\u001b[0m\u001b[0;34m(\u001b[0m\u001b[0mpath_in_str\u001b[0m\u001b[0;34m)\u001b[0m\u001b[0;34m\u001b[0m\u001b[0m\n\u001b[0m\u001b[1;32m     33\u001b[0m                 \u001b[0muid\u001b[0m\u001b[0;34m,\u001b[0m \u001b[0m_\u001b[0m \u001b[0;34m=\u001b[0m \u001b[0muid\u001b[0m\u001b[0;34m.\u001b[0m\u001b[0msplit\u001b[0m\u001b[0;34m(\u001b[0m\u001b[0;34m\"_\"\u001b[0m\u001b[0;34m)\u001b[0m\u001b[0;34m\u001b[0m\u001b[0m\n\u001b[1;32m     34\u001b[0m                 \u001b[0muid\u001b[0m \u001b[0;34m=\u001b[0m \u001b[0mint\u001b[0m\u001b[0;34m(\u001b[0m\u001b[0mstr\u001b[0m\u001b[0;34m(\u001b[0m\u001b[0muid\u001b[0m\u001b[0;34m)\u001b[0m\u001b[0;34m)\u001b[0m\u001b[0;34m\u001b[0m\u001b[0m\n",
      "\u001b[0;31mValueError\u001b[0m: too many values to unpack (expected 2)"
     ]
    }
   ],
   "source": [
    "import multiprocessing\n",
    "from gensim.models import Doc2Vec\n",
    "import gensim.models.doc2vec\n",
    "import os\n",
    "\n",
    "cores = multiprocessing.cpu_count()\n",
    "assert gensim.models.doc2vec.FAST_VERSION > -1\n",
    "\n",
    "def path_leaf(path):\n",
    "    a,b,c,d,e = path.split(\"/\")\n",
    "    return c,d,e\n",
    "\n",
    "\n",
    "docs = MyDocs(clean_root)\n",
    "\n",
    "doc2vec_models = [\n",
    "    # PV-DM\n",
    "    Doc2Vec(docs,dm=1, dm_concat=1,alpha=.025, min_alpha=.025, size=100, window=5,\n",
    "            negative=5, hs=0, min_count=2, workers=cores),\n",
    "    # PV-DBOW \n",
    "    Doc2Vec(docs,dm=0, size=100,alpha=.025, min_alpha=.025, \n",
    "            negative=5, hs=0, min_count=2, workers=cores),\n",
    "    # PV-DM with average \n",
    "    Doc2Vec(docs,dm=1, dm_mean=1, size=100, window=10,alpha=.025, min_alpha=.025,\n",
    "            negative=5, hs=0, min_count=2, workers=cores),\n",
    "                ]\n",
    "\n",
    "print(doc2vec_models[0])\n",
    "#doc2vec_models[0].build_vocab(docs)\n",
    "# for model in doc2vec_models[1:]:\n",
    "#     model.reset_from(doc2vec_models[0])\n",
    "#     print(model)"
   ]
  },
  {
   "cell_type": "code",
   "execution_count": 50,
   "metadata": {
    "collapsed": true
   },
   "outputs": [],
   "source": [
    "def loadORsavedoc(doc_path,cores,model_name=None):\n",
    "    doc_model_path = f'models/multidoc_{model_name}'\n",
    "    model_exists = os.path.isfile(doc_model_path)\n",
    "    model= Doc2Vec.load(doc_model_path) if model_exists else doc2vec_models[model_name]\n",
    "    \n",
    "    if not model_exists:\n",
    "        for epoch in range(10):\n",
    "            print(f'hi for the {epoch} time')\n",
    "            model.train(docs, total_examples=model.corpus_count, epochs=model.epochs)\n",
    "        model.save(doc_model_path)\n",
    "    return model\n",
    "\n",
    "cores = multiprocessing.cpu_count()\n",
    "models_loaded = []\n",
    "models_loaded.append(loadORsavedoc(f'{clean_root}/aclImdb/train/pos', cores, 0))\n",
    "models_loaded.append(loadORsavedoc(f'{clean_root}/aclImdb/train/pos', cores, 1))\n",
    "models_loaded.append(loadORsavedoc(f'{clean_root}/aclImdb/train/pos', cores, 2))"
   ]
  },
  {
   "cell_type": "code",
   "execution_count": 51,
   "metadata": {
    "collapsed": true
   },
   "outputs": [],
   "source": [
    "# model = doc2vec_models[0]\n",
    "# model.iter = 10\n",
    "# for epoch in range(5):\n",
    "#     model.train(docs,total_examples = model.corpus_count, epochs=model.iter)\n",
    "#     model.alpha -= 0.002  # decrease the learning rate`\n",
    "#     model.min_alpha = model.alpha  # fix the learning rate, no decay\n",
    "#     print(f'done with {epoch}')\n",
    "# model.save(f'models/multidoc_1')"
   ]
  },
  {
   "cell_type": "code",
   "execution_count": 52,
   "metadata": {
    "collapsed": true,
    "scrolled": true
   },
   "outputs": [],
   "source": [
    "# model = doc2vec_models[1]\n",
    "# model.iter = 10\n",
    "# for epoch in range(5):\n",
    "#     model.train(docs,total_examples = model.corpus_count, epochs=model.iter)\n",
    "#     model.alpha -= 0.002  # decrease the learning rate`\n",
    "#     model.min_alpha = model.alpha  # fix the learning rate, no decay\n",
    "#     print(f'done with {epoch}')\n",
    "# model.save(f'models/multidoc_2')"
   ]
  },
  {
   "cell_type": "code",
   "execution_count": 53,
   "metadata": {
    "collapsed": true
   },
   "outputs": [],
   "source": [
    "# model = doc2vec_models[2]\n",
    "# model.iter = 10\n",
    "# for epoch in range(5):\n",
    "#     model.train(docs,total_examples = model.corpus_count, epochs=model.iter)\n",
    "#     model.alpha -= 0.002  # decrease the learning rate`\n",
    "#     model.min_alpha = model.alpha  # fix the learning rate, no decay\n",
    "#     print(f'done with {epoch}')\n",
    "# model.save(f'models/multidoc_3')"
   ]
  },
  {
   "cell_type": "code",
   "execution_count": 54,
   "metadata": {
    "collapsed": true
   },
   "outputs": [],
   "source": [
    "# models_loaded = [] \n",
    "# for idx in range (0,3):\n",
    "#     models_loaded.append(Doc2Vec.load(f'models/multidoc_{idx+1}'))"
   ]
  },
  {
   "cell_type": "code",
   "execution_count": 55,
   "metadata": {},
   "outputs": [],
   "source": [
    "from gensim.test.test_doc2vec import ConcatenatedDoc2Vec\n",
    "DbowDmm_model = ConcatenatedDoc2Vec([models_loaded[1], models_loaded[2]])\n",
    "DbowDmc_model = ConcatenatedDoc2Vec([models_loaded[1], models_loaded[0]])"
   ]
  },
  {
   "cell_type": "code",
   "execution_count": 56,
   "metadata": {},
   "outputs": [
    {
     "name": "stdout",
     "output_type": "stream",
     "text": [
      "(12500, 200)\n",
      "(12500, 200)\n"
     ]
    }
   ],
   "source": [
    "pos_vecs = []\n",
    "for c in range(12500):\n",
    "    pos_vecs.append(DbowDmc_model.docvecs[f'{c}'])\n",
    "pos_vecs = np.array(pos_vecs)\n",
    "\n",
    "print(pos_vecs.shape)\n",
    "\n",
    "neg_vecs = []\n",
    "for c in range(12500,25000):\n",
    "    neg_vecs.append(DbowDmc_model.docvecs[f'{c}'])\n",
    "neg_vecs = np.array(neg_vecs)\n",
    "\n",
    "print(neg_vecs.shape)"
   ]
  },
  {
   "cell_type": "code",
   "execution_count": null,
   "metadata": {},
   "outputs": [],
   "source": []
  },
  {
   "cell_type": "code",
   "execution_count": 71,
   "metadata": {
    "collapsed": true
   },
   "outputs": [],
   "source": [
    "X_train = np.concatenate((pos_vecs,neg_vecs),axis=0)\n",
    "y_train = np.asarray([1]*pos_vecs.shape[0] + [-1]*neg_vecs.shape[0])\n",
    "\n",
    "# X_train,X_val,y_train,y_val = train_test_split(X, y, test_size=0.33, random_state=42)"
   ]
  },
  {
   "cell_type": "code",
   "execution_count": 72,
   "metadata": {},
   "outputs": [],
   "source": [
    "dirs_test = ['Data/aclImdb/test/pos','Data/aclImdb/test/neg']\n",
    "clean_root_test = speedy(dirs_test,15)\n",
    "docs_test = MyDocs(clean_root_test)\n",
    "\n",
    "test = docs_test.pos + docs_test.neg\n",
    "X_test = np.empty((25000,200))\n",
    "\n",
    "for i in range (25000):\n",
    "    vec_infer = DbowDmc_model.infer_vector(test[i])\n",
    "    X_test[i] = vec_infer\n",
    "y_test = np.asarray([1]*12500 + [-1]*12500)"
   ]
  },
  {
   "cell_type": "code",
   "execution_count": 62,
   "metadata": {},
   "outputs": [
    {
     "data": {
      "text/plain": [
       "SVC(C=1, cache_size=200, class_weight=None, coef0=0.0,\n",
       "  decision_function_shape='ovr', degree=3, gamma='auto', kernel='rbf',\n",
       "  max_iter=-1, probability=False, random_state=None, shrinking=True,\n",
       "  tol=0.001, verbose=False)"
      ]
     },
     "execution_count": 62,
     "metadata": {},
     "output_type": "execute_result"
    }
   ],
   "source": [
    "from sklearn.svm import SVC\n",
    "\n",
    "clf = SVC(C=1)\n",
    "clf.fit(X_train, y_train)"
   ]
  },
  {
   "cell_type": "code",
   "execution_count": 63,
   "metadata": {},
   "outputs": [
    {
     "data": {
      "text/plain": [
       "0.5"
      ]
     },
     "execution_count": 63,
     "metadata": {},
     "output_type": "execute_result"
    }
   ],
   "source": [
    "np.mean(clf.predict(X_test) == y_test)"
   ]
  },
  {
   "cell_type": "code",
   "execution_count": 73,
   "metadata": {},
   "outputs": [
    {
     "data": {
      "text/plain": [
       "RandomForestClassifier(bootstrap=True, class_weight=None, criterion='gini',\n",
       "            max_depth=None, max_features='auto', max_leaf_nodes=None,\n",
       "            min_impurity_decrease=0.0, min_impurity_split=None,\n",
       "            min_samples_leaf=1, min_samples_split=50,\n",
       "            min_weight_fraction_leaf=0.0, n_estimators=500, n_jobs=-1,\n",
       "            oob_score=False, random_state=None, verbose=0,\n",
       "            warm_start=False)"
      ]
     },
     "execution_count": 73,
     "metadata": {},
     "output_type": "execute_result"
    }
   ],
   "source": [
    "from sklearn.ensemble import RandomForestClassifier\n",
    "forest = RandomForestClassifier(n_estimators=500,min_samples_split=50,n_jobs=-1)\n",
    "forest.fit(X_train,y_train)\n"
   ]
  },
  {
   "cell_type": "code",
   "execution_count": 74,
   "metadata": {},
   "outputs": [
    {
     "data": {
      "text/plain": [
       "0.5"
      ]
     },
     "execution_count": 74,
     "metadata": {},
     "output_type": "execute_result"
    }
   ],
   "source": [
    "np.mean(forest.predict(X_test) == y_test)"
   ]
  },
  {
   "cell_type": "code",
   "execution_count": 75,
   "metadata": {},
   "outputs": [
    {
     "data": {
      "text/plain": [
       "AdaBoostClassifier(algorithm='SAMME.R', base_estimator=None,\n",
       "          learning_rate=1.0, n_estimators=200, random_state=None)"
      ]
     },
     "execution_count": 75,
     "metadata": {},
     "output_type": "execute_result"
    }
   ],
   "source": [
    "from sklearn.ensemble import AdaBoostClassifier\n",
    "ada = AdaBoostClassifier(n_estimators=200)\n",
    "ada.fit(X_train,y_train)"
   ]
  },
  {
   "cell_type": "code",
   "execution_count": 76,
   "metadata": {},
   "outputs": [
    {
     "data": {
      "text/plain": [
       "0.5"
      ]
     },
     "execution_count": 76,
     "metadata": {},
     "output_type": "execute_result"
    }
   ],
   "source": [
    "np.mean(ada.predict(X_test) == y_test)"
   ]
  },
  {
   "cell_type": "code",
   "execution_count": 69,
   "metadata": {},
   "outputs": [
    {
     "data": {
      "text/plain": [
       "GradientBoostingClassifier(criterion='friedman_mse', init=None,\n",
       "              learning_rate=0.1, loss='deviance', max_depth=3,\n",
       "              max_features=None, max_leaf_nodes=None,\n",
       "              min_impurity_decrease=0.0, min_impurity_split=None,\n",
       "              min_samples_leaf=1, min_samples_split=2,\n",
       "              min_weight_fraction_leaf=0.0, n_estimators=300,\n",
       "              presort='auto', random_state=None, subsample=1.0, verbose=0,\n",
       "              warm_start=False)"
      ]
     },
     "execution_count": 69,
     "metadata": {},
     "output_type": "execute_result"
    }
   ],
   "source": [
    "from sklearn.ensemble import GradientBoostingClassifier\n",
    "gboost = GradientBoostingClassifier(n_estimators=300)\n",
    "gboost.fit(X_train,y_train)"
   ]
  },
  {
   "cell_type": "code",
   "execution_count": 70,
   "metadata": {},
   "outputs": [
    {
     "data": {
      "text/plain": [
       "0.5"
      ]
     },
     "execution_count": 70,
     "metadata": {},
     "output_type": "execute_result"
    }
   ],
   "source": [
    "np.mean(gboost.predict(X_test) == y_test)"
   ]
  }
 ],
 "metadata": {
  "kernelspec": {
   "display_name": "Python 3",
   "language": "python",
   "name": "python3"
  },
  "language_info": {
   "codemirror_mode": {
    "name": "ipython",
    "version": 3
   },
   "file_extension": ".py",
   "mimetype": "text/x-python",
   "name": "python",
   "nbconvert_exporter": "python",
   "pygments_lexer": "ipython3",
   "version": "3.6.3"
  }
 },
 "nbformat": 4,
 "nbformat_minor": 2
}
